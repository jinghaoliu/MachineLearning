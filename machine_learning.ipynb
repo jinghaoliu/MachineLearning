{
  "nbformat": 4,
  "nbformat_minor": 0,
  "metadata": {
    "colab": {
      "name": "machine learning.ipynb",
      "provenance": [],
      "collapsed_sections": [],
      "authorship_tag": "ABX9TyNxdTuMuNvPUdFybfErMNtG",
      "include_colab_link": true
    },
    "kernelspec": {
      "name": "python3",
      "display_name": "Python 3"
    },
    "language_info": {
      "name": "python"
    }
  },
  "cells": [
    {
      "cell_type": "markdown",
      "metadata": {
        "id": "view-in-github",
        "colab_type": "text"
      },
      "source": [
        "<a href=\"https://colab.research.google.com/github/jinghaoliu/MachineLearning/blob/main/machine_learning.ipynb\" target=\"_parent\"><img src=\"https://colab.research.google.com/assets/colab-badge.svg\" alt=\"Open In Colab\"/></a>"
      ]
    },
    {
      "cell_type": "markdown",
      "source": [
        "## 1 无监督\n",
        "\n",
        "*   1.1 Kmenas\n",
        "*   列表项\n",
        "\n",
        "\n",
        "## 2 有监督\n",
        "\n",
        "*   2.1 KNN\n",
        "*   2.2 SVM\n"
      ],
      "metadata": {
        "id": "lUSZaM7BjhZl"
      }
    },
    {
      "cell_type": "markdown",
      "source": [
        "## Kmeans"
      ],
      "metadata": {
        "id": "zUrSgwtckPEx"
      }
    },
    {
      "cell_type": "code",
      "source": [
        "!pip install matplotlib\n",
        "!pip install pandas\n",
        "!pip install numpy\n",
        "!pip install scikit-learn"
      ],
      "metadata": {
        "colab": {
          "base_uri": "https://localhost:8080/"
        },
        "id": "4ktzh5zKkFT7",
        "outputId": "5dac0650-cde0-4a39-c22e-eef61224ba1f"
      },
      "execution_count": null,
      "outputs": [
        {
          "output_type": "stream",
          "name": "stdout",
          "text": [
            "Looking in indexes: https://pypi.org/simple, https://us-python.pkg.dev/colab-wheels/public/simple/\n",
            "Requirement already satisfied: matplotlib in /usr/local/lib/python3.7/dist-packages (3.2.2)\n",
            "Requirement already satisfied: kiwisolver>=1.0.1 in /usr/local/lib/python3.7/dist-packages (from matplotlib) (1.4.2)\n",
            "Requirement already satisfied: python-dateutil>=2.1 in /usr/local/lib/python3.7/dist-packages (from matplotlib) (2.8.2)\n",
            "Requirement already satisfied: pyparsing!=2.0.4,!=2.1.2,!=2.1.6,>=2.0.1 in /usr/local/lib/python3.7/dist-packages (from matplotlib) (3.0.9)\n",
            "Requirement already satisfied: cycler>=0.10 in /usr/local/lib/python3.7/dist-packages (from matplotlib) (0.11.0)\n",
            "Requirement already satisfied: numpy>=1.11 in /usr/local/lib/python3.7/dist-packages (from matplotlib) (1.21.6)\n",
            "Requirement already satisfied: typing-extensions in /usr/local/lib/python3.7/dist-packages (from kiwisolver>=1.0.1->matplotlib) (4.2.0)\n",
            "Requirement already satisfied: six>=1.5 in /usr/local/lib/python3.7/dist-packages (from python-dateutil>=2.1->matplotlib) (1.15.0)\n",
            "Looking in indexes: https://pypi.org/simple, https://us-python.pkg.dev/colab-wheels/public/simple/\n",
            "Requirement already satisfied: pandas in /usr/local/lib/python3.7/dist-packages (1.3.5)\n",
            "Requirement already satisfied: python-dateutil>=2.7.3 in /usr/local/lib/python3.7/dist-packages (from pandas) (2.8.2)\n",
            "Requirement already satisfied: pytz>=2017.3 in /usr/local/lib/python3.7/dist-packages (from pandas) (2022.1)\n",
            "Requirement already satisfied: numpy>=1.17.3 in /usr/local/lib/python3.7/dist-packages (from pandas) (1.21.6)\n",
            "Requirement already satisfied: six>=1.5 in /usr/local/lib/python3.7/dist-packages (from python-dateutil>=2.7.3->pandas) (1.15.0)\n",
            "Looking in indexes: https://pypi.org/simple, https://us-python.pkg.dev/colab-wheels/public/simple/\n",
            "Requirement already satisfied: numpy in /usr/local/lib/python3.7/dist-packages (1.21.6)\n",
            "Looking in indexes: https://pypi.org/simple, https://us-python.pkg.dev/colab-wheels/public/simple/\n",
            "Requirement already satisfied: scikit-learn in /usr/local/lib/python3.7/dist-packages (1.0.2)\n",
            "Requirement already satisfied: scipy>=1.1.0 in /usr/local/lib/python3.7/dist-packages (from scikit-learn) (1.4.1)\n",
            "Requirement already satisfied: joblib>=0.11 in /usr/local/lib/python3.7/dist-packages (from scikit-learn) (1.1.0)\n",
            "Requirement already satisfied: numpy>=1.14.6 in /usr/local/lib/python3.7/dist-packages (from scikit-learn) (1.21.6)\n",
            "Requirement already satisfied: threadpoolctl>=2.0.0 in /usr/local/lib/python3.7/dist-packages (from scikit-learn) (3.1.0)\n"
          ]
        }
      ]
    },
    {
      "cell_type": "code",
      "execution_count": null,
      "metadata": {
        "colab": {
          "base_uri": "https://localhost:8080/"
        },
        "id": "yq_qvY9djSiN",
        "outputId": "038a160f-e55f-4bdc-fd8b-2cce55ab4c29"
      },
      "outputs": [
        {
          "output_type": "stream",
          "name": "stdout",
          "text": [
            "X:\n",
            " [[-1.10195984e+01 -3.15882031e+00]\n",
            " [-6.38088086e+00 -8.50663809e+00]\n",
            " [-1.12174569e+01 -1.50397990e+00]\n",
            " [-1.61589091e+00  4.18017563e+00]\n",
            " [-1.46126019e+00  4.52549851e+00]\n",
            " [-1.13009458e+00  4.54419108e+00]\n",
            " [-1.01336898e+01 -4.75061833e+00]\n",
            " [-7.58703957e-01  3.72276201e+00]\n",
            " [-2.30647659e+00  5.30797676e+00]\n",
            " [-7.48773915e+00 -8.06676370e+00]\n",
            " [-7.32386504e+00 -7.96393491e+00]\n",
            " [-5.67856792e+00 -7.60509852e+00]\n",
            " [-8.43890696e+00 -3.84394585e+00]\n",
            " [-1.09947323e+01 -4.06014253e+00]\n",
            " [-8.17259469e+00 -8.17094642e+00]\n",
            " [-1.41076074e+00  4.10984872e+00]\n",
            " [-1.13296642e+01 -5.71403711e+00]\n",
            " [-1.25041532e+01 -6.06751247e+00]\n",
            " [-1.34052081e+00  4.15711949e+00]\n",
            " [-1.01077040e+01 -3.94479960e+00]\n",
            " [-8.18717759e+00 -5.25907547e+00]\n",
            " [-1.01659113e+01 -4.12752889e+00]\n",
            " [-5.27930518e-01  5.92630669e+00]\n",
            " [-1.37889483e+00  4.33337717e+00]\n",
            " [-2.80207810e+00  4.05714715e+00]\n",
            " [-1.16719083e+01 -3.12831872e+00]\n",
            " [-1.00330804e+01 -1.84274349e+00]\n",
            " [-1.92744799e+00  4.93684534e+00]\n",
            " [-1.02518924e+01 -2.55350460e+00]\n",
            " [-1.08278844e+01 -4.83392615e+00]\n",
            " [-1.96576392e+00  5.23446451e+00]\n",
            " [-6.41623854e+00 -8.04588481e+00]\n",
            " [-5.90344220e+00 -8.18075749e+00]\n",
            " [-9.53654840e+00 -5.12933122e+00]\n",
            " [-7.20807793e+00 -7.12024433e+00]\n",
            " [-8.38076290e+00 -3.45060767e+00]\n",
            " [-8.22505229e+00 -6.80312129e+00]\n",
            " [-1.85139546e+00  3.51886090e+00]\n",
            " [-8.63062033e+00 -7.13940564e+00]\n",
            " [-1.69825542e+00  2.79071751e+00]\n",
            " [-1.97451969e-01  2.34634916e+00]\n",
            " [-6.61472667e+00 -6.38789300e+00]\n",
            " [-9.79490066e-01  4.08668827e+00]\n",
            " [-2.27956075e+00  5.10452190e+00]\n",
            " [-9.37662980e+00 -2.99722684e+00]\n",
            " [-1.03242120e+01 -5.29602434e+00]\n",
            " [-1.98197711e+00  4.02243551e+00]\n",
            " [-5.62200526e+00 -8.69290967e+00]\n",
            " [-1.09316272e+01 -4.48636887e+00]\n",
            " [-9.71503679e+00 -4.77944598e+00]\n",
            " [-6.69765037e+00 -6.92032891e+00]\n",
            " [-1.06990569e+01 -4.49057157e+00]\n",
            " [-9.34313235e+00 -4.00453699e+00]\n",
            " [-9.89148978e+00 -5.47902886e+00]\n",
            " [-3.85803976e-01  6.37359162e+00]\n",
            " [-1.14242679e+01 -2.18538860e+00]\n",
            " [-1.34392496e+00  2.38428865e+00]\n",
            " [-6.89501293e+00 -9.31723608e+00]\n",
            " [-1.14663009e+00  4.10839703e+00]\n",
            " [-1.03426997e+01 -4.18418829e+00]\n",
            " [-8.16299488e+00 -3.38896569e+00]\n",
            " [-7.17022690e+00 -7.52303243e+00]\n",
            " [-7.43968687e+00 -8.90319772e+00]\n",
            " [-2.33080604e+00  4.39382527e+00]\n",
            " [-4.60642026e-01  4.59164629e+00]\n",
            " [-6.69242533e+00 -8.30171791e+00]\n",
            " [-7.40878289e+00 -9.15339729e+00]\n",
            " [-1.84048021e+00  3.80256924e+00]\n",
            " [-7.53103704e+00 -6.76823676e+00]\n",
            " [-9.16170778e+00 -2.40998944e+00]\n",
            " [-2.40671820e+00  6.09894447e+00]\n",
            " [-1.42946517e+00  5.16850105e+00]\n",
            " [-1.37397258e+00  5.29163103e+00]\n",
            " [-1.07233096e+01 -4.82111722e+00]\n",
            " [-2.88961804e+00  4.95702736e+00]\n",
            " [-1.05434867e+01 -4.15218641e+00]\n",
            " [-6.61326623e+00 -7.04905378e+00]\n",
            " [ 2.42271161e-04  5.14853403e+00]\n",
            " [-1.77000693e+00  3.78912781e+00]\n",
            " [-9.98435983e+00 -4.64804214e+00]\n",
            " [-1.06981110e+01 -4.15674300e+00]\n",
            " [-8.59017250e+00 -3.82424697e+00]\n",
            " [-2.35122066e+00  4.00973634e+00]\n",
            " [-1.19410359e+01 -3.60085418e+00]\n",
            " [-1.96967668e+00  1.97165210e+00]\n",
            " [-7.84274101e+00 -7.03738700e+00]\n",
            " [-1.16484338e+01 -4.84390413e+00]\n",
            " [-1.27907975e+01 -2.01581973e+00]\n",
            " [-7.90673749e-01  5.15690151e+00]\n",
            " [-9.75504306e+00 -3.75151837e+00]\n",
            " [-7.91633784e+00 -7.15234668e+00]\n",
            " [-1.21819546e+00  4.30633464e+00]\n",
            " [-1.17536381e+01 -3.23855895e+00]\n",
            " [-6.75460990e+00 -1.02474759e+01]\n",
            " [-1.04464505e+01 -4.62579659e+00]\n",
            " [-7.69022419e+00 -8.74707117e+00]\n",
            " [-9.20268641e+00 -4.32778687e+00]\n",
            " [-1.20349137e+01 -5.89593773e+00]\n",
            " [-6.40320111e+00 -7.16687592e+00]\n",
            " [-7.02993859e+00 -6.69931052e+00]\n",
            " [-9.71296439e+00 -3.69088110e+00]\n",
            " [-6.42829877e+00 -6.74397472e+00]\n",
            " [-1.00051011e+00  2.77905153e+00]\n",
            " [-7.31655639e+00 -7.77051293e+00]\n",
            " [-6.93650519e+00 -6.39281292e+00]\n",
            " [-6.20735304e-01  6.59346952e+00]\n",
            " [-1.53773863e+00  5.53597378e+00]\n",
            " [-9.50537595e+00 -4.63402669e+00]\n",
            " [-6.28485505e+00 -8.78266971e+00]\n",
            " [-9.33669222e+00 -2.16119034e+00]\n",
            " [-7.54403928e+00 -7.80306095e+00]\n",
            " [-7.85988444e+00 -4.73888254e+00]\n",
            " [-7.87372938e+00 -7.59578865e+00]\n",
            " [-7.94152277e-01  2.10495117e+00]\n",
            " [-1.04399418e+01 -3.62982119e+00]\n",
            " [-2.77687025e+00  4.64090557e+00]\n",
            " [-6.59823892e+00 -7.11954124e+00]\n",
            " [-1.01927698e+01 -3.14795512e+00]\n",
            " [-9.84144865e+00 -4.14356957e+00]\n",
            " [-1.79600465e+00  4.28743568e+00]\n",
            " [-1.07035530e+01 -2.76066248e+00]\n",
            " [-1.88188805e+00  4.20573180e+00]\n",
            " [-6.22402063e+00 -8.25611532e+00]\n",
            " [-7.94653906e+00 -3.36768655e+00]\n",
            " [-6.21160000e+00 -8.29293984e+00]\n",
            " [-1.84612968e+00  4.30474400e+00]\n",
            " [-1.92577841e+00  4.43910442e+00]\n",
            " [-9.14443128e+00 -4.36637786e+00]\n",
            " [-9.47838518e+00 -9.93079448e+00]\n",
            " [-1.01181771e+01 -5.18646928e+00]\n",
            " [-5.01025808e+00 -8.09981857e+00]\n",
            " [-9.99960399e+00 -5.34996897e+00]\n",
            " [ 5.31139823e-01  2.51012895e+00]\n",
            " [-5.37107307e+00 -7.95635833e+00]\n",
            " [-7.59711620e+00 -7.03509471e+00]\n",
            " [-1.15365057e+01 -4.40124373e+00]\n",
            " [-7.28729621e+00 -6.68306776e+00]\n",
            " [-8.60893311e+00 -4.61469279e+00]\n",
            " [-9.72121320e+00 -4.68662015e+00]\n",
            " [-9.41306589e+00 -3.62907430e+00]\n",
            " [-7.34661845e+00 -6.09687258e+00]\n",
            " [-1.16434858e+00  4.23178671e+00]\n",
            " [-1.13898357e+00  3.26214848e+00]\n",
            " [-8.64403847e+00 -8.98185608e+00]\n",
            " [-9.98118494e+00 -3.77616083e+00]\n",
            " [-6.19391238e+00 -8.66168524e+00]\n",
            " [-1.30901393e+00  3.09420646e+00]\n",
            " [-9.37972697e+00 -4.13752487e+00]\n",
            " [-8.13784646e+00 -7.65806949e+00]\n",
            " [-2.17665436e+00  3.40946304e+00]\n",
            " [-7.44971443e+00 -6.69511987e+00]\n",
            " [-1.04959261e+01 -4.26433353e+00]\n",
            " [-7.47972908e+00 -7.70128207e+00]\n",
            " [-9.37435033e+00 -4.38830523e+00]\n",
            " [-3.03267723e+00  4.72164926e+00]\n",
            " [-7.66055006e+00 -8.46234942e+00]\n",
            " [-7.24828238e+00 -7.05222790e+00]\n",
            " [-1.07796242e+01 -4.39085753e+00]\n",
            " [-6.09834293e+00 -7.44017905e+00]\n",
            " [-9.56818636e+00 -4.56034695e+00]\n",
            " [-9.37590900e+00 -4.55315308e+00]\n",
            " [-1.78245013e+00  3.47072043e+00]\n",
            " [-8.66753040e-01  3.78295914e+00]\n",
            " [-6.37151596e+00 -8.91129543e+00]\n",
            " [-1.42706535e+00  5.08904128e+00]\n",
            " [-1.11141825e+01 -3.87242145e+00]\n",
            " [-5.96588585e+00 -9.05486260e+00]\n",
            " [-9.19003455e-01  3.45278927e+00]\n",
            " [-2.10668847e+00  5.63099757e+00]\n",
            " [-1.05552072e+01 -3.01417980e+00]\n",
            " [-3.28102793e-01  4.11918201e+00]\n",
            " [-1.01842915e+01 -4.01017303e+00]\n",
            " [-1.02356544e+01 -2.79806066e+00]\n",
            " [-2.00341358e+00  4.45008673e+00]\n",
            " [-8.48608233e-01  5.45093196e+00]\n",
            " [-1.86845414e+00  4.99311306e+00]\n",
            " [-5.85642586e+00 -7.03752630e+00]\n",
            " [-1.02341495e+01 -3.22553505e+00]\n",
            " [-6.55394441e+00 -6.44256627e+00]\n",
            " [-9.29199482e+00 -9.85256171e+00]\n",
            " [-2.34673261e+00  3.56128423e+00]\n",
            " [-1.12345659e+01 -3.07750962e+00]\n",
            " [-8.13399258e-01  3.54697393e+00]\n",
            " [-9.86366431e+00 -2.75129369e+00]\n",
            " [-3.10367371e+00  3.90202401e+00]\n",
            " [-1.53940095e+00  5.02369298e+00]\n",
            " [-3.51754177e+00  5.64265390e+00]\n",
            " [-7.48382008e+00 -8.63241302e+00]\n",
            " [-9.23890684e+00 -3.06843973e+00]\n",
            " [-7.93489041e+00 -7.78403764e+00]\n",
            " [-9.90228742e+00 -3.03189848e+00]\n",
            " [-1.17104176e+00  4.33091816e+00]\n",
            " [-1.58173878e+00  5.02487013e+00]\n",
            " [-2.33022219e+00  4.78405366e+00]\n",
            " [-7.57969185e-01  4.90898421e+00]\n",
            " [-9.97584967e+00 -4.42202236e+00]\n",
            " [-1.46864442e+00  6.50674501e+00]\n",
            " [-1.11168279e+01 -1.99726964e+00]\n",
            " [-2.41395785e+00  5.65935802e+00]\n",
            " [ 2.45098802e-01  5.51754657e+00]\n",
            " [-5.75867612e+00 -8.75783107e+00]\n",
            " [-8.46369500e+00 -8.07146029e+00]\n",
            " [-1.00822205e+01 -4.25071043e+00]\n",
            " [-6.25603782e+00 -6.36347342e+00]\n",
            " [-6.69321189e+00 -6.30021862e+00]\n",
            " [-1.05724063e+00  4.82677207e+00]\n",
            " [-6.39048608e+00 -8.87562001e+00]\n",
            " [-8.70233178e+00 -4.19462540e+00]\n",
            " [-7.29364801e+00 -6.53986673e+00]\n",
            " [-9.58041050e+00 -3.16857790e+00]\n",
            " [-2.18773166e+00  3.33352125e+00]\n",
            " [-9.48263889e+00 -6.73588302e+00]\n",
            " [-7.86442967e+00 -8.44482270e+00]\n",
            " [-5.38142198e-01  4.81539041e+00]\n",
            " [-9.01698747e+00 -9.55555725e+00]\n",
            " [-1.23606555e+00  4.48382994e+00]\n",
            " [-7.34072825e+00 -6.92427252e+00]\n",
            " [-1.14385885e+01 -2.72109548e+00]\n",
            " [-4.99221336e-01  4.77598259e+00]\n",
            " [-2.03484486e+00  3.76775946e+00]\n",
            " [-1.05600179e+01 -1.99847047e+00]\n",
            " [-6.61375924e+00 -8.84814901e+00]\n",
            " [-9.37917337e+00 -4.39652048e+00]\n",
            " [-1.47299851e+00  4.81654152e+00]\n",
            " [-5.44396990e+00 -8.95941292e+00]\n",
            " [-8.20576492e-01  5.33759195e+00]\n",
            " [-1.04093517e+01 -2.67482046e+00]\n",
            " [-1.68417686e+00  3.63132825e+00]\n",
            " [-1.83198811e+00  3.52863145e+00]\n",
            " [-8.17831829e+00 -8.22063813e+00]\n",
            " [-2.06043810e+00  5.23049549e+00]\n",
            " [-9.63138049e+00 -4.99793793e+00]\n",
            " [-7.26388037e+00 -6.28675673e+00]\n",
            " [-7.83219201e+00 -7.47865740e+00]\n",
            " [-2.75447175e+00  4.57587230e+00]\n",
            " [-7.13421088e+00 -8.26162017e+00]\n",
            " [-1.08749940e+01 -4.82113577e+00]\n",
            " [-8.85279507e+00 -7.79138079e+00]\n",
            " [-7.62867092e+00 -8.06354170e+00]\n",
            " [ 5.26015501e-01  3.00999353e+00]\n",
            " [-6.54946838e+00 -9.26809916e+00]\n",
            " [ 8.68765801e-01  4.15785509e+00]\n",
            " [-5.86705134e+00 -6.44863393e+00]\n",
            " [-1.04730854e+01 -3.47573837e+00]\n",
            " [-1.09679881e+00  4.64722696e+00]\n",
            " [-6.88384344e+00 -7.04605265e+00]\n",
            " [-2.76017908e+00  5.55121358e+00]\n",
            " [-1.15637509e+00  5.69971575e+00]\n",
            " [-1.25606826e+00  5.00006839e+00]\n",
            " [-1.01136977e+01 -4.12880752e+00]\n",
            " [-1.60875215e+00  3.76949422e+00]\n",
            " [-7.35387953e+00 -8.54504434e+00]\n",
            " [-1.13042466e+01 -3.87696807e+00]\n",
            " [-7.88734937e+00 -7.43151681e+00]\n",
            " [-2.85882794e+00  5.26983519e+00]\n",
            " [-6.92324165e+00 -1.06695320e+01]\n",
            " [-1.09531378e+01 -3.36743812e+00]\n",
            " [-6.92263081e+00 -7.63972262e+00]\n",
            " [-8.88332953e+00 -4.53987249e+00]\n",
            " [-1.64215050e+00  3.28447114e+00]\n",
            " [-8.98758533e+00 -3.03333061e+00]\n",
            " [-7.52482501e+00 -7.50887444e+00]\n",
            " [-1.49952284e+00  5.28265879e+00]\n",
            " [-6.96685539e+00 -3.12876392e+00]\n",
            " [-6.28746298e+00 -8.27199928e+00]\n",
            " [ 8.52518583e-02  3.64528297e+00]\n",
            " [-5.25790464e-01  3.30659860e+00]\n",
            " [-9.93696231e+00 -3.74222379e+00]\n",
            " [-1.08590289e+01 -3.27863702e+00]\n",
            " [-6.61359817e+00 -9.83728809e+00]\n",
            " [-8.78427666e+00 -8.09610711e+00]\n",
            " [-1.35938959e+00  4.05424002e+00]\n",
            " [-5.91798181e+00 -8.20293068e+00]\n",
            " [-7.48937497e+00 -8.88475909e+00]\n",
            " [-2.93211866e+00  4.72003759e+00]\n",
            " [-9.20734891e+00 -8.98339697e+00]\n",
            " [-7.39616535e+00 -7.76668896e+00]\n",
            " [-7.04771746e+00 -8.58237038e+00]\n",
            " [-6.73224718e-01  4.62002377e+00]\n",
            " [-5.31844709e+00 -8.92829839e+00]\n",
            " [-1.61734616e+00  4.98930508e+00]\n",
            " [-5.60398980e+00 -7.56075530e+00]\n",
            " [-8.87430034e+00 -3.64808151e+00]\n",
            " [-6.02479303e+00 -9.07166814e+00]\n",
            " [-5.30463296e+00 -8.21388060e+00]\n",
            " [-7.93192918e+00 -5.42450547e+00]\n",
            " [-5.75517628e+00 -9.30821074e+00]\n",
            " [-9.55954616e+00 -2.83102023e+00]\n",
            " [-6.53600244e+00 -1.03903146e+01]\n",
            " [-6.05367512e+00 -9.62979077e+00]\n",
            " [-9.14500844e+00 -3.91798845e+00]\n",
            " [-1.18708735e+01 -3.03273343e+00]\n",
            " [-8.57698874e-01  4.45305717e+00]\n",
            " [-1.02768102e+01 -2.33049946e+00]\n",
            " [-8.54628324e+00 -4.57138540e+00]\n",
            " [-3.19091528e-02  4.74450157e+00]\n",
            " [-1.11800306e+01 -4.61910307e+00]\n",
            " [-6.01988777e+00 -7.54471341e+00]\n",
            " [-7.66603898e+00 -7.59715459e+00]\n",
            " [-7.24251438e+00 -9.66368448e+00]]\n",
            "y:\n",
            " [1 2 1 0 0 0 1 0 0 2 2 2 1 1 2 0 1 1 0 1 1 1 0 0 0 1 1 0 1 1 0 2 2 1 2 1 2\n",
            " 0 2 0 0 2 0 0 1 1 0 2 1 1 2 1 1 1 0 1 0 2 0 1 1 2 2 0 0 2 2 0 2 1 0 0 0 1\n",
            " 0 1 2 0 0 1 1 1 0 1 0 2 1 1 0 1 2 0 1 2 1 2 1 1 2 2 1 2 0 2 2 0 0 1 2 1 2\n",
            " 1 2 0 1 0 2 1 1 0 1 0 2 1 2 0 0 1 2 1 2 1 0 2 2 1 2 1 1 1 2 0 0 2 1 2 0 1\n",
            " 2 0 2 1 2 1 0 2 2 1 2 1 1 0 0 2 0 1 2 0 0 1 0 1 1 0 0 0 2 1 2 2 0 1 0 1 0\n",
            " 0 0 2 1 2 1 0 0 0 0 1 0 1 0 0 2 2 1 2 2 0 2 2 2 1 0 1 2 0 2 0 2 1 0 0 1 2\n",
            " 1 0 2 0 1 0 0 2 0 1 2 2 0 2 1 2 2 0 2 0 2 1 0 2 0 0 0 1 0 2 1 2 0 2 1 2 1\n",
            " 0 1 2 0 1 2 0 0 1 1 2 2 0 2 2 0 2 2 2 0 2 0 2 1 2 2 1 2 1 2 2 1 1 0 1 1 0\n",
            " 1 2 2 2]\n"
          ]
        }
      ],
      "source": [
        "from sklearn.datasets import make_blobs\n",
        "import matplotlib.pyplot as plt\n",
        "\n",
        "kk=3\n",
        "\n",
        "X, y = make_blobs(n_samples=300,n_features=2,centers=kk,random_state=1)\n",
        "\n",
        "print(\"X:\\n\", X)\n",
        "print(\"y:\\n\", y)\n"
      ]
    },
    {
      "cell_type": "code",
      "source": [
        "color = ['red', 'blue','green','yellow','pink','orange','gray']\n",
        "fig, axi1=plt.subplots(1)\n",
        "for i in range(kk):\n",
        "    axi1.scatter(X[y==i,0], X[y==i,1],marker='o',s=8,c=color[i])\n",
        "plt.show()"
      ],
      "metadata": {
        "colab": {
          "base_uri": "https://localhost:8080/",
          "height": 265
        },
        "id": "X2BpDYdKoH3-",
        "outputId": "bb1690d1-6658-42a5-f775-9ecbbf044263"
      },
      "execution_count": null,
      "outputs": [
        {
          "output_type": "display_data",
          "data": {
            "text/plain": [
              "<Figure size 432x288 with 1 Axes>"
            ],
            "image/png": "[encoded data removed]"
          },
          "metadata": {
            "needs_background": "light"
          }
        }
      ]
    },
    {
      "cell_type": "code",
      "source": [
        "## Kmeans center\n",
        "import random\n",
        "import numpy as np\n",
        "\n",
        "def random_center(k,X):\n",
        "  centers = []\n",
        "\n",
        "  for i in range(k):\n",
        "    x = np.random.randint(np.min(X[:,0]),np.max(X[:,0]))\n",
        "    y = np.random.randint(np.min(X[:,1]),np.max(X[:,1]))\n",
        "    centers.append(np.array([x,y]))\n",
        "\n",
        "  \n",
        "  return centers\n",
        "\n",
        "centers=random_center(kk,X)\n",
        "centers"
      ],
      "metadata": {
        "colab": {
          "base_uri": "https://localhost:8080/"
        },
        "id": "d5MVAmvVrHu7",
        "outputId": "9c49dbb2-20ce-447d-e63e-61240f01275b"
      },
      "execution_count": null,
      "outputs": [
        {
          "output_type": "execute_result",
          "data": {
            "text/plain": [
              "[array([-4,  2]), array([-10,   4]), array([-5, -6])]"
            ]
          },
          "metadata": {},
          "execution_count": 27
        }
      ]
    },
    {
      "cell_type": "code",
      "source": [
        "color = ['red', 'blue','green','yellow','pink','orange','gray']\n",
        "fig, axi1=plt.subplots(1)\n",
        "for i in range(kk):\n",
        "    axi1.scatter(X[y==i,0], X[y==i,1],marker='o',s=8,c=color[i])\n",
        "    axi1.scatter(centers[i][0],centers[i][1],marker='X',s=8,c='black')\n",
        "\n",
        "plt.show()"
      ],
      "metadata": {
        "colab": {
          "base_uri": "https://localhost:8080/",
          "height": 265
        },
        "id": "VLliyCks9unE",
        "outputId": "ecf545d3-5f00-4d73-d5a8-3b82c6ad64d9"
      },
      "execution_count": null,
      "outputs": [
        {
          "output_type": "display_data",
          "data": {
            "text/plain": [
              "<Figure size 432x288 with 1 Axes>"
            ],
            "image/png": "[encoded data removed]"
          },
          "metadata": {
            "needs_background": "light"
          }
        }
      ]
    },
    {
      "cell_type": "code",
      "source": [
        "def distance(x,y):\n",
        "  dis=(x-y)**2\n",
        "  dis=np.sqrt(dis)\n",
        "  dis=np.sum(dis)\n",
        "  return dis\n",
        "distance(1,2)"
      ],
      "metadata": {
        "colab": {
          "base_uri": "https://localhost:8080/"
        },
        "id": "OIKloAFdLUbv",
        "outputId": "fced954c-3a6c-43bc-ff43-32b33404d3f7"
      },
      "execution_count": null,
      "outputs": [
        {
          "output_type": "execute_result",
          "data": {
            "text/plain": [
              "1.0"
            ]
          },
          "metadata": {},
          "execution_count": 29
        }
      ]
    },
    {
      "cell_type": "code",
      "source": [
        "#center=plus_center\n",
        "while(True):\n",
        "\n",
        "  category=[]\n",
        "\n",
        "  for d in range(len(X)):\n",
        "    dist=[]\n",
        "\n",
        "    for c in range(len(centers)):\n",
        "      dis=distance(X[d],centers[c])\n",
        "      dist.append(dis)\n",
        "      \n",
        "    category.append(np.argmin(dist))\n",
        "\n",
        "  varDict = locals()\n",
        "  category=np.array(category)\n",
        "  for c_idx_i in range(kk):\n",
        "   \n",
        "    idx=np.argwhere(category==c_idx_i).flatten() \n",
        "\n",
        "    varDict['cat_idx_'+str(c_idx_i)] = idx\n",
        "\n",
        "  if (np.mean(X[cat_idx_0],axis=0)==centers[0]).all():\n",
        "    break\n",
        "  for n_c in range(len(centers)):\n",
        "    M=np.mean(X[eval(\"cat_idx_\"+str(n_c))],axis=0)\n",
        "    if  (~np.isnan(M).all()):\n",
        "      centers[n_c]=np.mean(X[eval(\"cat_idx_\"+str(n_c))],axis=0)"
      ],
      "metadata": {
        "id": "Cd8JH0_2sxFE"
      },
      "execution_count": null,
      "outputs": []
    },
    {
      "cell_type": "code",
      "source": [
        "centers"
      ],
      "metadata": {
        "colab": {
          "base_uri": "https://localhost:8080/"
        },
        "id": "poGiMOB9OioC",
        "outputId": "88afbdd4-c7e0-47cd-ace2-d36393d87d8a"
      },
      "execution_count": null,
      "outputs": [
        {
          "output_type": "execute_result",
          "data": {
            "text/plain": [
              "[array([-1.4531567 ,  4.40756967]),\n",
              " array([-10.68214855,  -2.70404042]),\n",
              " array([-8.21928562, -6.46190685])]"
            ]
          },
          "metadata": {},
          "execution_count": 31
        }
      ]
    },
    {
      "cell_type": "code",
      "source": [
        "# Kmeans++ center\n",
        "\n",
        "import random\n",
        "def distance(x,y):\n",
        "  dis=(x-y)**2\n",
        "  dis=np.sqrt(dis)\n",
        "  dis=np.sum(dis)\n",
        "  return dis\n",
        "plus_center=[]\n",
        "plus_center.append(random.sample(list(X), 1))\n",
        "print(plus_center)\n",
        "\n",
        "\n",
        "for plus_i in range(kk):\n",
        "  \n",
        "  plus_d=[]\n",
        "  plus_idx=0\n",
        "  for i in range(len(X)):\n",
        "    plus_d.append(distance(np.mean(plus_center),X[i]))\n",
        " \n",
        "  plus_d_sum=np.sum(plus_d)\n",
        "  p=(np.array(plus_d)**2)/plus_d_sum\n",
        "  plus_p_idx=np.argmax(p)\n",
        "  plus_center.append(X[plus_p_idx])\n",
        "plus_center = np.delete(plus_center, 0, axis=0)\n",
        "print(plus_center)"
      ],
      "metadata": {
        "id": "xAhtQzpGRGZz",
        "colab": {
          "base_uri": "https://localhost:8080/"
        },
        "outputId": "ed2fa968-aaf7-4ab0-ca46-54b22ef57b1b"
      },
      "execution_count": null,
      "outputs": [
        {
          "output_type": "stream",
          "name": "stdout",
          "text": [
            "[[array([-6.22402063, -8.25611532])]]\n",
            "[array([-0.38580398,  6.37359162]) array([-9.47838518, -9.93079448])\n",
            " array([-0.38580398,  6.37359162])]\n"
          ]
        },
        {
          "output_type": "stream",
          "name": "stderr",
          "text": [
            "/usr/local/lib/python3.7/dist-packages/numpy/core/_methods.py:163: VisibleDeprecationWarning: Creating an ndarray from ragged nested sequences (which is a list-or-tuple of lists-or-tuples-or ndarrays with different lengths or shapes) is deprecated. If you meant to do this, you must specify 'dtype=object' when creating the ndarray.\n",
            "  arr = asanyarray(a)\n",
            "/usr/local/lib/python3.7/dist-packages/numpy/lib/function_base.py:4454: VisibleDeprecationWarning: Creating an ndarray from ragged nested sequences (which is a list-or-tuple of lists-or-tuples-or ndarrays with different lengths or shapes) is deprecated. If you meant to do this, you must specify 'dtype=object' when creating the ndarray.\n",
            "  arr = asarray(arr)\n"
          ]
        }
      ]
    },
    {
      "cell_type": "code",
      "source": [
        "centers"
      ],
      "metadata": {
        "colab": {
          "base_uri": "https://localhost:8080/"
        },
        "id": "Gwc1Z4xStqLE",
        "outputId": "c8eb55ef-75a4-4fae-a473-57f6ab250624"
      },
      "execution_count": null,
      "outputs": [
        {
          "output_type": "execute_result",
          "data": {
            "text/plain": [
              "[array([-10.09049849,  -3.88304117]),\n",
              " array([-7.03767436, -7.98856993]),\n",
              " array([-1.4531567 ,  4.40756967])]"
            ]
          },
          "metadata": {},
          "execution_count": 32
        }
      ]
    },
    {
      "cell_type": "code",
      "source": [
        "#SSE\n",
        "def SSE(x,y):\n",
        "    return np.sum((x - y) ** 2)\n",
        "\n",
        "train_category=[]\n",
        "kkk=5\n",
        "\n",
        "Sse=[]\n",
        "for k in range(1,kkk+1):\n",
        "  s=[]\n",
        "  centers=random_center(k,X)\n",
        "\n",
        "  while(True):\n",
        "\n",
        "    category=[]\n",
        "\n",
        "    for d in range(len(X)):\n",
        "      dist=[]\n",
        "\n",
        "      for c in range(len(centers)):\n",
        "        dis=distance(X[d],centers[c])\n",
        "        dist.append(dis)\n",
        "      \n",
        "      category.append(np.argmin(dist))\n",
        "\n",
        "    varDict = locals()\n",
        "    category=np.array(category)\n",
        "    for c_idx_i in range(k):\n",
        "   \n",
        "      idx=np.argwhere(category==c_idx_i).flatten() \n",
        "\n",
        "      varDict['cat_idx_'+str(c_idx_i)] = idx\n",
        "\n",
        "    if(np.mean(X[cat_idx_0],axis=0)==centers[0]).all():\n",
        "      break\n",
        "    for n_c in range(len(centers)):\n",
        "      M=np.mean(X[eval(\"cat_idx_\"+str(n_c))],axis=0)\n",
        "      if(~np.isnan(M).all()):\n",
        "        centers[n_c]=np.mean(X[eval(\"cat_idx_\"+str(n_c))],axis=0)\n",
        "  # for t in range(kk):\n",
        "    # SSE(centers[n_c],eval(\"cat_idx_\"+str(n_c)))\n",
        "  \n",
        "  for n_c in range(len(centers)):\n",
        "    sse=SSE(X[eval(\"cat_idx_\"+str(n_c))],centers[n_c])\n",
        "    s.append(sse)\n",
        "  Sse.append(np.sum(s))\n",
        "\n",
        "\n",
        "\n",
        "plt.xlabel('k')\n",
        "plt.ylabel('SSE')\n",
        "plt.plot(range(1,kkk+1),Sse,'o-')\n",
        "plt.show()\n",
        "\n"
      ],
      "metadata": {
        "id": "SZ_C3xpG9W5g",
        "colab": {
          "base_uri": "https://localhost:8080/",
          "height": 279
        },
        "outputId": "d33d3224-dfce-4c0b-becf-37e785cd3022"
      },
      "execution_count": null,
      "outputs": [
        {
          "output_type": "display_data",
          "data": {
            "text/plain": [
              "<Figure size 432x288 with 1 Axes>"
            ],
            "image/png": "[encoded data removed]"
          },
          "metadata": {
            "needs_background": "light"
          }
        }
      ]
    },
    {
      "cell_type": "code",
      "source": [
        "color = ['red', 'blue','green','yellow','pink','orange','gray']\n",
        "fig, axi1=plt.subplots(1)\n",
        "for i in range(kk):\n",
        "    axi1.scatter(X[y==i,0], X[y==i,1],marker='o',s=8,c=color[i])\n",
        "    axi1.scatter(centers[i][0],centers[i][1],marker='X',s=8,c='black')\n",
        "\n",
        "plt.show()"
      ],
      "metadata": {
        "colab": {
          "base_uri": "https://localhost:8080/",
          "height": 265
        },
        "id": "tLY3fbbj_Ccj",
        "outputId": "66d7476d-4638-4146-ed26-ed510f017052"
      },
      "execution_count": null,
      "outputs": [
        {
          "output_type": "display_data",
          "data": {
            "text/plain": [
              "<Figure size 432x288 with 1 Axes>"
            ],
            "image/png": "[encoded data removed]"
          },
          "metadata": {
            "needs_background": "light"
          }
        }
      ]
    },
    {
      "cell_type": "markdown",
      "source": [
        "## KNN"
      ],
      "metadata": {
        "id": "9aGhVAa4AtSM"
      }
    },
    {
      "cell_type": "code",
      "source": [
        "from sklearn.datasets import make_blobs\n",
        "import matplotlib.pyplot as plt\n",
        "\n",
        "kk=3\n",
        "\n",
        "X, y = make_blobs(n_samples=300,n_features=2,centers=kk,random_state=1)\n",
        "\n",
        "print(\"X:\\n\", X[:10])\n",
        "print(\"y:\\n\", y[:10])"
      ],
      "metadata": {
        "colab": {
          "base_uri": "https://localhost:8080/"
        },
        "id": "ZocmmIuoAvFv",
        "outputId": "40372c60-59c1-41dd-bd5d-8b8b374963da"
      },
      "execution_count": null,
      "outputs": [
        {
          "output_type": "stream",
          "name": "stdout",
          "text": [
            "X:\n",
            " [[-11.01959845  -3.15882031]\n",
            " [ -6.38088086  -8.50663809]\n",
            " [-11.2174569   -1.5039799 ]\n",
            " [ -1.61589091   4.18017563]\n",
            " [ -1.46126019   4.52549851]\n",
            " [ -1.13009458   4.54419108]\n",
            " [-10.13368983  -4.75061833]\n",
            " [ -0.75870396   3.72276201]\n",
            " [ -2.30647659   5.30797676]\n",
            " [ -7.48773915  -8.0667637 ]]\n",
            "y:\n",
            " [1 2 1 0 0 0 1 0 0 2]\n"
          ]
        }
      ]
    },
    {
      "cell_type": "code",
      "source": [
        "color = ['red', 'blue','green','yellow','pink','orange','gray']\n",
        "fig, axi1=plt.subplots(1)\n",
        "for i in range(kk):\n",
        "    axi1.scatter(X[y==i,0], X[y==i,1],marker='o',s=8,c=color[i])\n",
        "plt.show()"
      ],
      "metadata": {
        "colab": {
          "base_uri": "https://localhost:8080/",
          "height": 265
        },
        "id": "Xd-eppqqA4Ou",
        "outputId": "36f11fd9-002d-4f69-cd25-a60f84ebe3b5"
      },
      "execution_count": null,
      "outputs": [
        {
          "output_type": "display_data",
          "data": {
            "text/plain": [
              "<Figure size 432x288 with 1 Axes>"
            ],
            "image/png": "[encoded data removed]"
          },
          "metadata": {
            "needs_background": "light"
          }
        }
      ]
    },
    {
      "cell_type": "code",
      "source": [
        "from sklearn.model_selection import train_test_split\n",
        "x_train , x_test ,y_train , y_test = train_test_split(X, y, test_size=0.2, random_state=1)\n",
        "print(x_train[:10])\n",
        "print(y_train[:10])\n",
        "\n",
        "print(x_test[:10])\n",
        "print(y_test[:10])\n",
        "xtest=x_test\n",
        "ytest=y_test"
      ],
      "metadata": {
        "colab": {
          "base_uri": "https://localhost:8080/"
        },
        "id": "G03300loBBDV",
        "outputId": "90074589-c22c-468d-9324-1c8123c8f15f"
      },
      "execution_count": null,
      "outputs": [
        {
          "output_type": "stream",
          "name": "stdout",
          "text": [
            "[[ -6.09834293  -7.44017905]\n",
            " [ -7.44971443  -6.69511987]\n",
            " [ -1.00051011   2.77905153]\n",
            " [ -6.37151596  -8.91129543]\n",
            " [ -7.87372938  -7.59578865]\n",
            " [ -2.76017908   5.55121358]\n",
            " [ -1.69825542   2.79071751]\n",
            " [ -0.32810279   4.11918201]\n",
            " [ -7.84274101  -7.037387  ]\n",
            " [-10.47308538  -3.47573837]]\n",
            "[2 2 0 2 2 0 0 0 2 1]\n",
            "[[ -7.93489041  -7.78403764]\n",
            " [ -7.94653906  -3.36768655]\n",
            " [ -1.53940095   5.02369298]\n",
            " [ -0.5381422    4.81539041]\n",
            " [ -1.53773863   5.53597378]\n",
            " [ -9.14443128  -4.36637786]\n",
            " [ -5.85642586  -7.0375263 ]\n",
            " [-10.72330962  -4.82111722]\n",
            " [ -9.20734891  -8.98339697]\n",
            " [ -5.86705134  -6.44863393]]\n",
            "[2 1 0 0 0 1 2 1 2 2]\n"
          ]
        }
      ]
    },
    {
      "cell_type": "code",
      "source": [
        "def distance(x,y):\n",
        "  dis=(x-y)**2\n",
        "  dis=np.sqrt(dis)\n",
        "  dis=np.sum(dis)\n",
        "  return dis"
      ],
      "metadata": {
        "id": "FcuCJNYBBGtC"
      },
      "execution_count": null,
      "outputs": []
    },
    {
      "cell_type": "code",
      "source": [
        "import numpy as np\n",
        "\n",
        "K=2\n",
        "d=[]\n",
        "ids=[]\n",
        "for i_test in x_test:\n",
        "  for i_train in x_train:\n",
        "    d.append(distance(i_train,i_test))\n",
        "  ids.append(np.argsort(d))\n",
        "  d=[]\n",
        "\n",
        "idx2element=[]\n",
        "predict=[]\n",
        "for ii in range(len(ids)):\n",
        "  for row in ids[ii]:\n",
        "    idx2element.append(y_train[row])\n",
        "  \n",
        "  counts = np.bincount(idx2element[:K])  \n",
        "  predict.append(np.argmax(counts))\n",
        "  idx2element=[]\n",
        "predict=np.array(predict)"
      ],
      "metadata": {
        "id": "uiLRnRWLBPqU"
      },
      "execution_count": null,
      "outputs": []
    },
    {
      "cell_type": "code",
      "source": [
        "from sklearn.metrics import classification_report\n",
        "print(classification_report(y_test, predict))"
      ],
      "metadata": {
        "colab": {
          "base_uri": "https://localhost:8080/"
        },
        "id": "VRTb80jVLxaO",
        "outputId": "f655ffc5-83a3-49ce-e9af-0559b0876ba8"
      },
      "execution_count": null,
      "outputs": [
        {
          "output_type": "stream",
          "name": "stdout",
          "text": [
            "              precision    recall  f1-score   support\n",
            "\n",
            "           0       1.00      1.00      1.00        23\n",
            "           1       1.00      1.00      1.00        18\n",
            "           2       1.00      1.00      1.00        19\n",
            "\n",
            "    accuracy                           1.00        60\n",
            "   macro avg       1.00      1.00      1.00        60\n",
            "weighted avg       1.00      1.00      1.00        60\n",
            "\n"
          ]
        }
      ]
    },
    {
      "cell_type": "code",
      "source": [
        "color = ['red', 'blue','green','yellow','pink','orange','gray']\n",
        "fig, axi1=plt.subplots(1)\n",
        "for i in range(kk):\n",
        "    axi1.scatter(xtest[y_test==i,0], xtest[y_test==i,1],marker='o',s=8,c=color[i])\n",
        "plt.show()"
      ],
      "metadata": {
        "colab": {
          "base_uri": "https://localhost:8080/",
          "height": 265
        },
        "id": "rL6GEpmqM4s7",
        "outputId": "3916aaf0-e09b-4948-80c4-2963398546c8"
      },
      "execution_count": null,
      "outputs": [
        {
          "output_type": "display_data",
          "data": {
            "text/plain": [
              "<Figure size 432x288 with 1 Axes>"
            ],
            "image/png": "[encoded data removed]"
          },
          "metadata": {
            "needs_background": "light"
          }
        }
      ]
    },
    {
      "cell_type": "code",
      "source": [
        "color = ['red', 'blue','green','yellow','pink','orange','gray']\n",
        "fig, axi1=plt.subplots(1)\n",
        "for i in range(kk):\n",
        "    axi1.scatter(xtest[predict==i,0], xtest[predict==i,1],marker='o',s=8,c=color[i])\n",
        "plt.show()"
      ],
      "metadata": {
        "colab": {
          "base_uri": "https://localhost:8080/",
          "height": 265
        },
        "id": "fFI-SC8mOLjC",
        "outputId": "516e7f72-70ef-4d72-830a-51019d578c57"
      },
      "execution_count": null,
      "outputs": [
        {
          "output_type": "display_data",
          "data": {
            "text/plain": [
              "<Figure size 432x288 with 1 Axes>"
            ],
            "image/png": "[encoded data removed]"
          },
          "metadata": {
            "needs_background": "light"
          }
        }
      ]
    },
    {
      "cell_type": "code",
      "source": [
        "import numpy as np\n",
        "\n",
        "K=10   #2-10\n",
        "d=[]\n",
        "ids=[]\n",
        "K_predict=[]\n",
        "for i_test in x_test:\n",
        "  for i_train in x_train:\n",
        "    d.append(distance(i_train,i_test))\n",
        "  ids.append(np.argsort(d))\n",
        "  d=[]\n",
        "\n",
        "for k in range(1,K):\n",
        "  idx2element=[]\n",
        "  predict=[]\n",
        "  for ii in range(len(ids)):\n",
        "    for row in ids[ii]:\n",
        "      idx2element.append(y_train[row])\n",
        "  \n",
        "    counts = np.bincount(idx2element[:k])  \n",
        "    predict.append(np.argmax(counts))\n",
        "    idx2element=[]\n",
        "  K_predict.append(np.array(predict))\n",
        "print(K_predict)"
      ],
      "metadata": {
        "colab": {
          "base_uri": "https://localhost:8080/"
        },
        "id": "rGwMUVyyPr2z",
        "outputId": "5952f117-d8f6-4a70-dc25-329345379cde"
      },
      "execution_count": null,
      "outputs": [
        {
          "output_type": "stream",
          "name": "stdout",
          "text": [
            "[array([2, 1, 0, 0, 0, 1, 2, 1, 2, 2, 0, 1, 2, 0, 2, 0, 2, 0, 1, 1, 0, 2,\n",
            "       2, 1, 0, 0, 2, 2, 1, 0, 1, 0, 2, 1, 1, 0, 2, 0, 1, 1, 2, 0, 0, 0,\n",
            "       0, 1, 1, 0, 1, 2, 1, 2, 1, 0, 2, 0, 2, 0, 2, 0]), array([2, 1, 0, 0, 0, 1, 2, 1, 2, 2, 0, 1, 2, 0, 2, 0, 2, 0, 1, 1, 0, 2,\n",
            "       2, 1, 0, 0, 2, 2, 1, 0, 1, 0, 2, 1, 1, 0, 2, 0, 1, 1, 2, 0, 0, 0,\n",
            "       0, 1, 1, 0, 1, 2, 1, 2, 1, 0, 2, 0, 2, 0, 2, 0]), array([2, 1, 0, 0, 0, 1, 2, 1, 2, 2, 0, 1, 2, 0, 2, 0, 2, 0, 1, 1, 0, 2,\n",
            "       2, 1, 0, 0, 2, 2, 1, 0, 1, 0, 2, 1, 1, 0, 2, 0, 1, 1, 2, 0, 0, 0,\n",
            "       0, 1, 1, 0, 1, 2, 1, 2, 1, 0, 2, 0, 2, 0, 2, 0]), array([2, 1, 0, 0, 0, 1, 2, 1, 2, 2, 0, 1, 2, 0, 2, 0, 2, 0, 1, 1, 0, 2,\n",
            "       2, 1, 0, 0, 2, 2, 1, 0, 1, 0, 2, 1, 1, 0, 2, 0, 1, 1, 2, 0, 0, 0,\n",
            "       0, 1, 1, 0, 1, 2, 1, 2, 1, 0, 2, 0, 2, 0, 2, 0]), array([2, 1, 0, 0, 0, 1, 2, 1, 2, 2, 0, 1, 2, 0, 2, 0, 2, 0, 1, 1, 0, 2,\n",
            "       2, 1, 0, 0, 2, 2, 1, 0, 1, 0, 2, 1, 1, 0, 2, 0, 1, 1, 2, 0, 0, 0,\n",
            "       0, 1, 1, 0, 1, 2, 1, 2, 1, 0, 2, 0, 2, 0, 2, 0]), array([2, 1, 0, 0, 0, 1, 2, 1, 2, 2, 0, 1, 2, 0, 2, 0, 2, 0, 1, 1, 0, 2,\n",
            "       2, 1, 0, 0, 2, 2, 1, 0, 1, 0, 2, 1, 1, 0, 2, 0, 1, 1, 2, 0, 0, 0,\n",
            "       0, 1, 1, 0, 1, 2, 1, 2, 1, 0, 2, 0, 2, 0, 2, 0]), array([2, 1, 0, 0, 0, 1, 2, 1, 2, 2, 0, 1, 2, 0, 2, 0, 2, 0, 1, 1, 0, 2,\n",
            "       2, 1, 0, 0, 2, 2, 1, 0, 1, 0, 2, 1, 1, 0, 2, 0, 1, 1, 2, 0, 0, 0,\n",
            "       0, 1, 1, 0, 1, 2, 1, 2, 1, 0, 2, 0, 2, 0, 2, 0]), array([2, 1, 0, 0, 0, 1, 2, 1, 2, 2, 0, 1, 2, 0, 2, 0, 2, 0, 1, 1, 0, 2,\n",
            "       2, 1, 0, 0, 2, 2, 1, 0, 1, 0, 2, 1, 1, 0, 2, 0, 1, 1, 2, 0, 0, 0,\n",
            "       0, 1, 1, 0, 1, 2, 1, 2, 1, 0, 2, 0, 2, 0, 2, 0]), array([2, 1, 0, 0, 0, 1, 2, 1, 2, 2, 0, 1, 2, 0, 2, 0, 2, 0, 1, 1, 0, 2,\n",
            "       2, 1, 0, 0, 2, 2, 1, 0, 1, 0, 2, 1, 1, 0, 2, 0, 1, 1, 2, 0, 0, 0,\n",
            "       0, 1, 1, 0, 1, 2, 1, 2, 2, 0, 2, 0, 2, 0, 2, 0])]\n"
          ]
        }
      ]
    },
    {
      "cell_type": "code",
      "source": [
        "acc=[]\n",
        "for i in range(K-1):\n",
        "  correct_prediction = np.equal(y_test, K_predict[i])\n",
        "  acc.append(np.mean(correct_prediction))\n",
        "acc"
      ],
      "metadata": {
        "colab": {
          "base_uri": "https://localhost:8080/"
        },
        "id": "rdMhG6GNQ6l6",
        "outputId": "77e854ce-db5f-4377-bd52-b93c3c79b7f2"
      },
      "execution_count": null,
      "outputs": [
        {
          "output_type": "execute_result",
          "data": {
            "text/plain": [
              "[1.0, 1.0, 1.0, 1.0, 1.0, 1.0, 1.0, 1.0, 0.9833333333333333]"
            ]
          },
          "metadata": {},
          "execution_count": 51
        }
      ]
    },
    {
      "cell_type": "code",
      "source": [
        "plt.xlabel('k')\n",
        "plt.ylabel('SSE')\n",
        "plt.plot(range(1,K),acc,'o-')\n",
        "plt.show()\n"
      ],
      "metadata": {
        "colab": {
          "base_uri": "https://localhost:8080/",
          "height": 279
        },
        "id": "iSnfhbBUSybv",
        "outputId": "de7ebbfa-9075-442c-8102-1c69d8bf5ad4"
      },
      "execution_count": null,
      "outputs": [
        {
          "output_type": "display_data",
          "data": {
            "text/plain": [
              "<Figure size 432x288 with 1 Axes>"
            ],
            "image/png": "[encoded data removed]"
          },
          "metadata": {
            "needs_background": "light"
          }
        }
      ]
    },
    {
      "cell_type": "markdown",
      "source": [
        "## SVM"
      ],
      "metadata": {
        "id": "KsCev1WwdWnE"
      }
    },
    {
      "cell_type": "code",
      "source": [
        "from sklearn.datasets import make_blobs\n",
        "import matplotlib.pyplot as plt\n",
        "\n",
        "\n",
        "\n",
        "X, y = make_blobs(n_samples=300,n_features=2,centers=2,random_state=1)\n",
        "\n",
        "print(\"X:\\n\", X[:10])\n",
        "print(\"y:\\n\", y[:10])"
      ],
      "metadata": {
        "colab": {
          "base_uri": "https://localhost:8080/"
        },
        "id": "BY5BhE2TdUhL",
        "outputId": "b21a6179-c9f5-44fd-b049-e6cff5d1ebd0"
      },
      "execution_count": 1,
      "outputs": [
        {
          "output_type": "stream",
          "name": "stdout",
          "text": [
            "X:\n",
            " [[-11.01959845  -3.15882031]\n",
            " [ -9.31371118  -4.30675853]\n",
            " [ -2.8793043    6.85585852]\n",
            " [ -1.61589091   4.18017563]\n",
            " [ -1.46126019   4.52549851]\n",
            " [ -1.13009458   4.54419108]\n",
            " [-10.13368983  -4.75061833]\n",
            " [ -0.75870396   3.72276201]\n",
            " [ -2.30647659   5.30797676]\n",
            " [-10.42056947  -3.86688414]]\n",
            "y:\n",
            " [1 1 0 0 0 0 1 0 0 1]\n"
          ]
        }
      ]
    },
    {
      "cell_type": "code",
      "source": [
        "color = ['red', 'blue','green','yellow','pink','orange','gray']\n",
        "fig, axi1=plt.subplots(1)\n",
        "for i in range(2):\n",
        "    axi1.scatter(X[y==i,0], X[y==i,1],marker='o',s=8,c=color[i])\n",
        "plt.show()"
      ],
      "metadata": {
        "colab": {
          "base_uri": "https://localhost:8080/",
          "height": 265
        },
        "id": "UnGZadiudhEs",
        "outputId": "145afa93-2bba-4a56-ed44-df6ec9ebfd5e"
      },
      "execution_count": 3,
      "outputs": [
        {
          "output_type": "display_data",
          "data": {
            "text/plain": [
              "<Figure size 432x288 with 1 Axes>"
            ],
            "image/png": "[encoded data removed]"
          },
          "metadata": {
            "needs_background": "light"
          }
        }
      ]
    },
    {
      "cell_type": "code",
      "source": [
        "from sklearn.model_selection import train_test_split\n",
        "x_train , x_test ,y_train , y_test = train_test_split(X, y, test_size=0.2, random_state=1)\n",
        "print(x_train[:10])\n",
        "print(y_train[:10])\n",
        "\n",
        "print(x_test[:10])\n",
        "print(y_test[:10])\n",
        "xtest=x_test\n",
        "ytest=y_test"
      ],
      "metadata": {
        "colab": {
          "base_uri": "https://localhost:8080/"
        },
        "id": "YZTnX0FFdhhr",
        "outputId": "75e5b6c3-787e-4636-d08f-933633a8de55"
      },
      "execution_count": 4,
      "outputs": [
        {
          "output_type": "stream",
          "name": "stdout",
          "text": [
            "[[ -9.03117325  -3.2402995 ]\n",
            " [-10.38254475  -2.49524031]\n",
            " [ -1.00051011   2.77905153]\n",
            " [ -9.30434628  -4.71141588]\n",
            " [-10.8065597   -3.39590909]\n",
            " [ -2.76017908   5.55121358]\n",
            " [ -1.69825542   2.79071751]\n",
            " [ -0.32810279   4.11918201]\n",
            " [-10.77557133  -2.83750744]\n",
            " [-10.47308538  -3.47573837]]\n",
            "[1 1 0 1 1 0 0 0 1 1]\n",
            "[[-10.86772073  -3.58415808]\n",
            " [  0.39161354   4.99215187]\n",
            " [ -1.53940095   5.02369298]\n",
            " [ -0.5381422    4.81539041]\n",
            " [ -1.53773863   5.53597378]\n",
            " [ -9.14443128  -4.36637786]\n",
            " [ -8.78925618  -2.83764674]\n",
            " [-10.72330962  -4.82111722]\n",
            " [-12.14017923  -4.78351741]\n",
            " [ -8.79988166  -2.24875438]]\n",
            "[1 0 0 0 0 1 1 1 1 1]\n"
          ]
        }
      ]
    },
    {
      "cell_type": "code",
      "source": [
        ""
      ],
      "metadata": {
        "id": "llV4UM1PdrY8"
      },
      "execution_count": null,
      "outputs": []
    }
  ]
}